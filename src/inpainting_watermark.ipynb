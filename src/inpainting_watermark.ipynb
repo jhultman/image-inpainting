{
 "cells": [
  {
   "cell_type": "code",
   "execution_count": 12,
   "metadata": {
    "collapsed": true
   },
   "outputs": [],
   "source": [
    "from functools import partial\n",
    "from multiprocessing import Pool\n",
    "from imageio import imread\n",
    "import matplotlib.pyplot as plt\n",
    "import numpy as np\n",
    "import cvxpy as cp\n",
    "from inpainting import inpaint\n",
    "np.random.seed(21)"
   ]
  },
  {
   "cell_type": "code",
   "execution_count": 13,
   "metadata": {},
   "outputs": [],
   "source": [
    "def partial_ravel(arr, lo=0, hi=-1):\n",
    "    \"\"\"Ravel axes in [lo, hi).\"\"\"\n",
    "    assert (lo < hi) or (hi == -1)\n",
    "    shape = arr.shape[:lo] + (-1,) + arr.shape[hi:-1]\n",
    "    return arr.reshape(shape)"
   ]
  },
  {
   "cell_type": "code",
   "execution_count": 14,
   "metadata": {},
   "outputs": [],
   "source": [
    "def paste_region(arr, region, val):\n",
    "    \"\"\"Make copy of arr with arr[region] == val.\"\"\"\n",
    "    arr = arr.copy()\n",
    "    arr[region] = val\n",
    "    return arr"
   ]
  },
  {
   "cell_type": "code",
   "execution_count": 15,
   "metadata": {},
   "outputs": [],
   "source": [
    "def region_to_mask(shape, region):\n",
    "    mask = np.full(shape, False)\n",
    "    mask[region] = True\n",
    "    return mask"
   ]
  },
  {
   "cell_type": "code",
   "execution_count": 19,
   "metadata": {},
   "outputs": [],
   "source": [
    "def _imshow(ax, img):\n",
    "    ax.imshow(img)\n",
    "    ax.set_axis_off()"
   ]
  },
  {
   "cell_type": "code",
   "execution_count": 20,
   "metadata": {},
   "outputs": [],
   "source": [
    "def plot_compare(corrupted, recovered, region):\n",
    "    difference = (corrupted - recovered)[region]\n",
    "    fig = plt.figure(figsize=(11, 6))\n",
    "    ax = partial(plt.subplot2grid, shape=(7, 4), colspan=2)\n",
    "    _imshow(ax(loc=(0, 0), rowspan=6), corrupted)\n",
    "    _imshow(ax(loc=(0, 2), rowspan=6), recovered)\n",
    "    _imshow(ax(loc=(6, 1), rowspan=1), difference)\n",
    "    fig.tight_layout()\n",
    "    fig.savefig('../images/readme/watermark_results.png')"
   ]
  },
  {
   "cell_type": "code",
   "execution_count": 21,
   "metadata": {},
   "outputs": [],
   "source": [
    "def main():\n",
    "    basedir = '../images/watermarked'\n",
    "    fnames = [f'{basedir}/stock{i}.jpg' for i in range(3)]\n",
    "    all_img = np.stack([imread(fname) for fname in fnames], axis=-1)\n",
    "    sample_img = all_img[..., 0]\n",
    "    \n",
    "    lo, hi = 60, 256\n",
    "    mask = partial_ravel((all_img > lo) & (all_img < hi), 2).all(-1)\n",
    "    r1, r2, c1, c2 = 340, 380, 135, 475\n",
    "    region = (slice(r1, r2), slice(c1, c2))\n",
    "    mask &= region_to_mask(mask.shape, region)\n",
    "    rows, cols = np.where(~mask[region])\n",
    "    cropped_img = sample_img[region]\n",
    "\n",
    "    task = partial(inpaint, rows=rows, cols=cols)\n",
    "    data = np.rollaxis(cropped_img, -1)\n",
    "    with Pool(3) as pool:\n",
    "        recovered = pool.map(task, data)\n",
    "    recovered = np.stack(recovered, -1).astype(np.uint8)\n",
    "    recovered_img = paste_region(sample_img, region, recovered)\n",
    "    plot_compare(sample_img, recovered_img, region)"
   ]
  },
  {
   "cell_type": "code",
   "execution_count": 22,
   "metadata": {},
   "outputs": [],
   "source": [
    "main()"
   ]
  }
 ],
 "metadata": {
  "kernelspec": {
   "display_name": "happyenv",
   "language": "python",
   "name": "happyenv"
  },
  "language_info": {
   "codemirror_mode": {
    "name": "ipython",
    "version": 3
   },
   "file_extension": ".py",
   "mimetype": "text/x-python",
   "name": "python",
   "nbconvert_exporter": "python",
   "pygments_lexer": "ipython3",
   "version": "3.6.1"
  }
 },
 "nbformat": 4,
 "nbformat_minor": 2
}
